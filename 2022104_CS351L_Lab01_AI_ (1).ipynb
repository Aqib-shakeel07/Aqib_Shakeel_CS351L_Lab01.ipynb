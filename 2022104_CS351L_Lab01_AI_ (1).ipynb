{
  "nbformat": 4,
  "nbformat_minor": 0,
  "metadata": {
    "colab": {
      "provenance": []
    },
    "kernelspec": {
      "name": "python3",
      "display_name": "Python 3"
    },
    "language_info": {
      "name": "python"
    }
  },
  "cells": [
    {
      "cell_type": "markdown",
      "source": [
        "TASK_1: Implement the Number Guessing Game where the AI uses Breadth-First Search (BFS) to guess the number."
      ],
      "metadata": {
        "id": "QJD4fRJl66Uv"
      }
    },
    {
      "cell_type": "code",
      "execution_count": 6,
      "metadata": {
        "id": "rS6K_SWV6cNc",
        "colab": {
          "base_uri": "https://localhost:8080/"
        },
        "outputId": "ea60bbce-ebdc-4206-d5ee-409a44c90619"
      },
      "outputs": [
        {
          "output_type": "stream",
          "name": "stdout",
          "text": [
            "Think of a number between 1 and 100, and I (the AI) will try to guess it using a randomized BFS approach.\n",
            "AI's guess (1/10) is: 89\n",
            "Enter 'h' if too high, 'l' if too low, or 'c' if correct: h\n",
            "AI's guess (2/10) is: 35\n",
            "Enter 'h' if too high, 'l' if too low, or 'c' if correct: l\n",
            "AI's guess (3/10) is: 37\n",
            "Enter 'h' if too high, 'l' if too low, or 'c' if correct: l\n",
            "AI's guess (4/10) is: 59\n",
            "Enter 'h' if too high, 'l' if too low, or 'c' if correct: h\n",
            "AI's guess (5/10) is: 50\n",
            "Enter 'h' if too high, 'l' if too low, or 'c' if correct: c\n",
            "I (AI) guessed the number in 5 attempts using randomized BFS!!!\n"
          ]
        }
      ],
      "source": [
        "#Implement the Number Guessing Game where the AI uses Breadth-First Search (BFS) to guess the number.#\n",
        "\n",
        "import random\n",
        "from collections import deque\n",
        "\n",
        "def ai_number_guessing_game_bfs_random_limited():\n",
        "    # Prompt the player to think of a number\n",
        "    print(\"Think of a number between 1 and 100, and I (the AI) will try to guess it using a randomized BFS approach.\")\n",
        "\n",
        "    # Initialize the range\n",
        "    low = 1\n",
        "    high = 100\n",
        "    # Maximum number of attempts allowed\n",
        "    max_attempts = 10\n",
        "    attempts = 0\n",
        "\n",
        "    # Initialize the queue with all possible guesses\n",
        "    queue = deque(range(low, high + 1))\n",
        "\n",
        "    # Perform randomized BFS to guess the number\n",
        "    while queue and attempts < max_attempts:\n",
        "        # Guess a random number from the remaining possible guesses\n",
        "        guess = random.choice(queue)\n",
        "        attempts += 1\n",
        "\n",
        "        print(f\"AI's guess ({attempts}/{max_attempts}) is: {guess}\")\n",
        "        # Get feedback from the player\n",
        "        feedback = input(\"Enter 'h' if too high, 'l' if too low, or 'c' if correct: \").strip().lower()\n",
        "\n",
        "        if feedback == 'c':\n",
        "            # Player confirms the guess is correct\n",
        "            print(f\"I (AI) guessed the number in {attempts} attempts using randomized BFS!!!\")\n",
        "            return\n",
        "        elif feedback == 'h':\n",
        "            # If the guess is too high, remove all numbers greater than the current guess\n",
        "            queue = deque(num for num in queue if num < guess)\n",
        "        elif feedback == 'l':\n",
        "            # If the guess is too low, remove all numbers less than the current guess\n",
        "            queue = deque(num for num in queue if num > guess)\n",
        "        else:\n",
        "            print(\"Invalid input. Please enter 'h', 'l', or 'c'.\")\n",
        "\n",
        "    # If the AI cannot guess the number within the allowed attempts\n",
        "    print(f\"I (AI) couldn't guess the number within {max_attempts} attempts. Better luck next time!\")\n",
        "\n",
        "# Run the game\n",
        "ai_number_guessing_game_bfs_random_limited()  # Calling the function\n"
      ]
    },
    {
      "cell_type": "markdown",
      "source": [
        "TASK 2: DFS Version: Implement the Number Guessing Game where the AI uses Depth First Search (DFS) to guess the number."
      ],
      "metadata": {
        "id": "l04ETg6y65Md"
      }
    },
    {
      "cell_type": "code",
      "source": [
        "import random\n",
        "\n",
        "def ai_number_guessing_game_dfs_random():\n",
        "    # Prompt the player to think of a number\n",
        "    print(\"Think of a number between 1 and 100, and I (the AI) will try to guess it using a randomized DFS-like approach.\")\n",
        "\n",
        "    # Initialize the search range\n",
        "    low = 1\n",
        "    high = 100\n",
        "    attempts = 0\n",
        "    max_attempts = 10\n",
        "\n",
        "    # Initialize the stack with all possible guesses\n",
        "    stack = list(range(low, high + 1))\n",
        "\n",
        "    # Perform randomized DFS to guess the number\n",
        "    while stack and attempts < max_attempts:\n",
        "        # Guess a random number from the remaining possible guesses in the stack\n",
        "        guess = random.choice(stack)\n",
        "        stack.remove(guess)  # Remove the guessed number from the stack\n",
        "        attempts += 1\n",
        "\n",
        "        print(f\"AI's guess ({attempts}/{max_attempts}) is: {guess}\")\n",
        "        # Get feedback from the player\n",
        "        feedback = input(\"Enter 'h' if too high, 'l' if too low, or 'c' if correct: \").strip().lower()\n",
        "\n",
        "        if feedback == 'c':\n",
        "            # Player confirms the guess is correct\n",
        "            print(f\"I (AI) guessed the number in {attempts} attempts using randomized DFS-like approach!\")\n",
        "            return\n",
        "        elif feedback == 'h':\n",
        "            # If the guess is too high, adjust the high bound\n",
        "            high = guess - 1\n",
        "            # Update stack to include only numbers less than the current guess\n",
        "            stack = [num for num in stack if num <= high]\n",
        "        elif feedback == 'l':\n",
        "            # If the guess is too low, adjust the low bound\n",
        "            low = guess + 1\n",
        "            # Update stack to include only numbers greater than the current guess\n",
        "            stack = [num for num in stack if num >= low]\n",
        "        else:\n",
        "            print(\"Invalid input. Please enter 'h', 'l', or 'c'.\")\n",
        "\n",
        "    # If the AI cannot guess the number within the allowed attempts\n",
        "    print(f\"I (AI) couldn't guess the number within {max_attempts} attempts. Better luck next time!\")\n",
        "\n",
        "# Run the game\n",
        "ai_number_guessing_game_dfs_random()\n"
      ],
      "metadata": {
        "colab": {
          "base_uri": "https://localhost:8080/"
        },
        "id": "Wu-C1iq17TYC",
        "outputId": "159b7249-756a-45a7-d3d6-a5660b4cde5b"
      },
      "execution_count": null,
      "outputs": [
        {
          "output_type": "stream",
          "name": "stdout",
          "text": [
            "Think of a number between 1 and 100, and I (the AI) will try to guess it using a randomized DFS-like approach.\n",
            "AI's guess (1/10) is: 69\n",
            "Enter 'h' if too high, 'l' if too low, or 'c' if correct: h\n",
            "AI's guess (2/10) is: 68\n",
            "Enter 'h' if too high, 'l' if too low, or 'c' if correct: h\n",
            "AI's guess (3/10) is: 46\n",
            "Enter 'h' if too high, 'l' if too low, or 'c' if correct: l\n",
            "AI's guess (4/10) is: 62\n",
            "Enter 'h' if too high, 'l' if too low, or 'c' if correct: h\n",
            "AI's guess (5/10) is: 61\n",
            "Enter 'h' if too high, 'l' if too low, or 'c' if correct: h\n",
            "AI's guess (6/10) is: 56\n",
            "Enter 'h' if too high, 'l' if too low, or 'c' if correct: h\n",
            "AI's guess (7/10) is: 55\n",
            "Enter 'h' if too high, 'l' if too low, or 'c' if correct: h\n",
            "AI's guess (8/10) is: 52\n",
            "Enter 'h' if too high, 'l' if too low, or 'c' if correct: h\n",
            "AI's guess (9/10) is: 49\n",
            "Enter 'h' if too high, 'l' if too low, or 'c' if correct: l\n",
            "AI's guess (10/10) is: 50\n",
            "Enter 'h' if too high, 'l' if too low, or 'c' if correct: c\n",
            "I (AI) guessed the number in 10 attempts using randomized DFS-like approach!\n"
          ]
        }
      ]
    },
    {
      "cell_type": "code",
      "source": [
        "import random\n",
        "\n",
        "def ai_number_guessing_game_random():\n",
        "    print(\"Think of a number between 1 and 100, and I (the AI) will try to guess it using a randomized approach.\")\n",
        "\n",
        "    low = 1\n",
        "    high = 100\n",
        "    attempts = 0\n",
        "    max_attempts = 10\n",
        "\n",
        "    # Initialize a set of possible guesses\n",
        "    possible_guesses = set(range(low, high + 1))\n",
        "\n",
        "    while possible_guesses and attempts < max_attempts:\n",
        "        # Randomly pick a guess from the possible guesses\n",
        "        guess = random.choice(list(possible_guesses))\n",
        "        attempts += 1\n",
        "\n",
        "        print(f\"AI's guess ({attempts}/{max_attempts}) is: {guess}\")\n",
        "        # Get feedback from the player\n",
        "        feedback = input(\"Enter 'h' if too high, 'l' if too low, or 'c' if correct: \").strip().lower()\n",
        "\n",
        "        if feedback == 'c':\n",
        "            print(f\"I (AI) guessed the number in {attempts} attempts using random search!\")\n",
        "            return\n",
        "        elif feedback == 'h':\n",
        "            # If the guess is too high, remove all numbers greater than the current guess\n",
        "            possible_guesses = {num for num in possible_guesses if num < guess}\n",
        "        elif feedback == 'l':\n",
        "            # If the guess is too low, remove all numbers less than the current guess\n",
        "            possible_guesses = {num for num in possible_guesses if num > guess}\n",
        "        else:\n",
        "            print(\"Invalid input. Please enter 'h', 'l', or 'c'.\")\n",
        "\n",
        "    # Handle situation if the AI cannot guess within the maximum attempts\n",
        "    print(f\"I (AI) couldn't guess the number within {max_attempts} attempts. Better luck next time!\")\n",
        "\n",
        "# Run the game\n",
        "ai_number_guessing_game_random()\n"
      ],
      "metadata": {
        "colab": {
          "base_uri": "https://localhost:8080/"
        },
        "id": "HD68ZNxoFUKU",
        "outputId": "ebdb7449-26a0-4a62-b249-7a4bea67af7a"
      },
      "execution_count": 7,
      "outputs": [
        {
          "output_type": "stream",
          "name": "stdout",
          "text": [
            "Think of a number between 1 and 100, and I (the AI) will try to guess it using a randomized approach.\n",
            "AI's guess (1/10) is: 17\n",
            "Enter 'h' if too high, 'l' if too low, or 'c' if correct: l\n",
            "AI's guess (2/10) is: 34\n",
            "Enter 'h' if too high, 'l' if too low, or 'c' if correct: l\n",
            "AI's guess (3/10) is: 85\n",
            "Enter 'h' if too high, 'l' if too low, or 'c' if correct: h\n",
            "AI's guess (4/10) is: 59\n",
            "Enter 'h' if too high, 'l' if too low, or 'c' if correct: h\n",
            "AI's guess (5/10) is: 44\n",
            "Enter 'h' if too high, 'l' if too low, or 'c' if correct: l\n",
            "AI's guess (6/10) is: 52\n",
            "Enter 'h' if too high, 'l' if too low, or 'c' if correct: h\n",
            "AI's guess (7/10) is: 45\n",
            "Enter 'h' if too high, 'l' if too low, or 'c' if correct: c\n",
            "I (AI) guessed the number in 7 attempts using random search!\n"
          ]
        }
      ]
    }
  ]
}